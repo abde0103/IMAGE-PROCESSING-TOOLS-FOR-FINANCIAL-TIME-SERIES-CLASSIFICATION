{
 "cells": [
  {
   "cell_type": "code",
   "execution_count": null,
   "metadata": {},
   "outputs": [],
   "source": [
    "import yfinance as yf \n",
    "from make_data import make_data\n",
    "\n",
    "SP500 = yf.download('SPY', keepna = True )\n",
    "data = make_data(SP500)\n",
    "\n",
    "data.to_csv('example.csv')"
   ]
  },
  {
   "cell_type": "code",
   "execution_count": null,
   "metadata": {},
   "outputs": [],
   "source": [
    "data"
   ]
  },
  {
   "cell_type": "code",
   "execution_count": null,
   "metadata": {},
   "outputs": [],
   "source": [
    "!python DWT.py"
   ]
  },
  {
   "cell_type": "code",
   "execution_count": null,
   "metadata": {},
   "outputs": [],
   "source": [
    "data"
   ]
  },
  {
   "cell_type": "markdown",
   "metadata": {},
   "source": [
    "## Test CWT"
   ]
  },
  {
   "cell_type": "code",
   "execution_count": null,
   "metadata": {},
   "outputs": [],
   "source": [
    "from CWT import CWT\n",
    "from DWT import discrete_wavelet_denoise, log_return"
   ]
  },
  {
   "cell_type": "code",
   "execution_count": null,
   "metadata": {},
   "outputs": [],
   "source": [
    "k = 30\n",
    "sample =  data['Adj Close'][:k].to_numpy()\n",
    "sample_denoised = discrete_wavelet_denoise (sample , wavelet = 'db4', level = 1)\n",
    "log_ret = log_return(sample_denoised)"
   ]
  },
  {
   "cell_type": "code",
   "execution_count": null,
   "metadata": {},
   "outputs": [],
   "source": [
    "import os \n",
    "kwargs = {'b' : 2., 'c' : 1. }\n",
    "CWT (log_ret,show = True, wavelet = 'cmor',path= 'scalo.png', **kwargs  )"
   ]
  },
  {
   "cell_type": "markdown",
   "metadata": {},
   "source": [
    "##  Generation de NN datasets"
   ]
  },
  {
   "cell_type": "code",
   "execution_count": null,
   "metadata": {},
   "outputs": [],
   "source": [
    "from pipeline import *"
   ]
  },
  {
   "cell_type": "code",
   "execution_count": null,
   "metadata": {
    "scrolled": false
   },
   "outputs": [],
   "source": [
    "import yfinance as yf \n",
    "from make_data import make_data\n",
    "\n",
    "SP500 = yf.download('SPY', keepna = True )\n",
    "data = make_data(SP500)\n",
    "signal = data['Adj Close'].to_numpy()\n",
    "window_size = 360\n",
    "level_discrete_wavelet_transform = 2\n",
    "kwargs = {'b' : 2., 'c' : 1. }\n",
    "\n",
    "\n",
    "generate_NN_dataset(\n",
    "    signal ,\n",
    "    window_size,\n",
    "    method_labels = 'mean',\n",
    "    jump = 4,\n",
    "    level_discrete_wavelet_transform = level_discrete_wavelet_transform,\n",
    "    discrete_wavelet = 'db4',\n",
    "    continuous_wavelet = 'cmor',\n",
    "    **kwargs \n",
    "    )"
   ]
  },
  {
   "cell_type": "markdown",
   "metadata": {},
   "source": [
    "## Test multithread"
   ]
  },
  {
   "cell_type": "code",
   "execution_count": null,
   "metadata": {
    "scrolled": true
   },
   "outputs": [],
   "source": [
    "!python multithread.py"
   ]
  },
  {
   "cell_type": "code",
   "execution_count": null,
   "metadata": {},
   "outputs": [],
   "source": []
  }
 ],
 "metadata": {
  "kernelspec": {
   "display_name": "Python 3 (ipykernel)",
   "language": "python",
   "name": "python3"
  },
  "language_info": {
   "codemirror_mode": {
    "name": "ipython",
    "version": 3
   },
   "file_extension": ".py",
   "mimetype": "text/x-python",
   "name": "python",
   "nbconvert_exporter": "python",
   "pygments_lexer": "ipython3",
   "version": "3.8.8"
  }
 },
 "nbformat": 4,
 "nbformat_minor": 2
}
